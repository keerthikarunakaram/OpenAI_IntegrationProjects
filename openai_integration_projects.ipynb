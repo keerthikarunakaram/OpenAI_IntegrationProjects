{
 "cells": [
  {
   "cell_type": "code",
   "execution_count": 6,
   "id": "9d556030",
   "metadata": {},
   "outputs": [],
   "source": [
    "import os\n",
    "import openai\n",
    "from secret_key import api_key"
   ]
  },
  {
   "cell_type": "markdown",
   "id": "f620291b",
   "metadata": {},
   "source": [
    "## Authentication"
   ]
  },
  {
   "cell_type": "code",
   "execution_count": 7,
   "id": "30dee57f",
   "metadata": {},
   "outputs": [],
   "source": [
    "openai.api_key=api_key"
   ]
  },
  {
   "cell_type": "markdown",
   "id": "9421814c",
   "metadata": {},
   "source": [
    "openai.ChatCompletion.create(...): This line calls the OpenAI API to generate a response using the GPT-3.5-turbo model. The create method is used to interact with the model and request a completion for the conversation provided in the messages list.\n",
    "1. model=\"gpt-3.5-turbo\": This specifies the model to use, which is GPT-3.5-turbo in this case.\n",
    "2. messages=messages: This is the conversation history provided as input to the model. It includes both the system message and the user message.\n",
    "3. temperature=0: The temperature determines the randomness of the output. A higher value like 0.8 would make the output more diverse, while 0 will make it deterministic.\n",
    "4. max_tokens=256: This sets the maximum length of the generated response in tokens. Tokens are chunks of text used for language modeling. Here, the maximum response length is set to 256 tokens."
   ]
  },
  {
   "cell_type": "markdown",
   "id": "ab3ce9b3",
   "metadata": {},
   "source": [
    "### Grammer Correction App"
   ]
  },
  {
   "cell_type": "code",
   "execution_count": null,
   "id": "09fd9fd3",
   "metadata": {},
   "outputs": [],
   "source": [
    "# Get user input\n",
    "user_input=input(\"Enter a statement: \")\n",
    "\n",
    "# role  : system : standard instructions are provided\n",
    "# role  : user : give different statements for every single execution\n",
    "messages=[\n",
    "    {\n",
    "        \"role\":\"system\",\n",
    "        \"content\":\"You will be provided with statements, and your task is to convert them to standard English.\"\n",
    "    },\n",
    "    {\n",
    "        \"role\":\"user\",\n",
    "        \"content\":user_input\n",
    "    }\n",
    "]\n",
    "\n",
    "# Generate response from the model\n",
    "response = openai.ChatCompletion.create(\n",
    "    model=\"gpt-3.5-turbo\",\n",
    "    messages=messages,\n",
    "    temperature=0,\n",
    "    max_tokens=256\n",
    ")"
   ]
  },
  {
   "cell_type": "code",
   "execution_count": null,
   "id": "776c4fff",
   "metadata": {},
   "outputs": [],
   "source": [
    "# Print the generated output\n",
    "print(\"Generated Output:\")\n",
    "print(response['choices'][0]['message']['content'])"
   ]
  },
  {
   "cell_type": "markdown",
   "id": "d999c027",
   "metadata": {},
   "source": [
    "### Language Translator App"
   ]
  },
  {
   "cell_type": "code",
   "execution_count": null,
   "id": "3d5a56cd",
   "metadata": {},
   "outputs": [],
   "source": [
    "# Get user input\n",
    "user_input=input(\"Enter a statement: \")\n",
    "\n",
    "response = openai.ChatCompletion.create(\n",
    "  model=\"gpt-3.5-turbo\",\n",
    "  messages=[\n",
    "    {\n",
    "      \"role\": \"system\",\n",
    "      \"content\": \"You will be provided with a sentence in English, and your task is to translate it into French.\"\n",
    "    },\n",
    "    {\n",
    "      \"role\": \"user\",\n",
    "      \"content\": user_input\n",
    "    }\n",
    "  ],\n",
    "  temperature=0,\n",
    "  max_tokens=256\n",
    ")\n",
    "\n",
    "print(response['choices'][0]['message']['content'])"
   ]
  },
  {
   "cell_type": "markdown",
   "id": "fa6cf405",
   "metadata": {},
   "source": [
    "### Audio to text (using whisper)"
   ]
  },
  {
   "cell_type": "code",
   "execution_count": null,
   "id": "79fbc3ba",
   "metadata": {},
   "outputs": [],
   "source": [
    "audio_file= open(\"audio.mp3\", \"rb\")\n",
    "transcript = openai.Audio.transcribe(\"whisper-1\", audio_file)\n",
    "transcript"
   ]
  },
  {
   "cell_type": "markdown",
   "id": "16f8d7af",
   "metadata": {},
   "source": [
    "### Image Generator (using Dalle 2)"
   ]
  },
  {
   "cell_type": "code",
   "execution_count": null,
   "id": "6293fb36",
   "metadata": {},
   "outputs": [],
   "source": [
    "user_input = input(\"Write your prompt for Dall-e 2:  \")\n",
    "response = openai.Image.create(prompt = user_input, n = 1, size = '1024x1024')"
   ]
  },
  {
   "cell_type": "code",
   "execution_count": null,
   "id": "f4226092",
   "metadata": {},
   "outputs": [],
   "source": [
    "print(response['data'][0])"
   ]
  },
  {
   "cell_type": "markdown",
   "id": "71947be8",
   "metadata": {},
   "source": [
    "### Keyword Extraction App"
   ]
  },
  {
   "cell_type": "code",
   "execution_count": null,
   "id": "8b84cbd5",
   "metadata": {},
   "outputs": [],
   "source": [
    "response = openai.ChatCompletion.create(\n",
    "  model=\"gpt-3.5-turbo\",\n",
    "  messages=[\n",
    "    {\n",
    "      \"role\": \"system\",\n",
    "      \"content\": \"You will be provided with a block of text, and your task is to extract a list of keywords from it.\"\n",
    "    },\n",
    "    {\n",
    "      \"role\": \"user\",\n",
    "      \"content\": \"Black-on-black ware is a 20th- and 21st-century pottery tradition developed by the Puebloan Native American ceramic artists in Northern New Mexico. Traditional reduction-fired blackware has been made for centuries by pueblo artists. Black-on-black ware of the past century is produced with a smooth surface, with the designs applied through selective burnishing or the application of refractory slip. Another style involves carving or incising designs and selectively polishing the raised areas. For generations several families from Kha'po Owingeh and P'ohwhóge Owingeh pueblos have been making black-on-black ware with the techniques passed down from matriarch potters. Artists from other pueblos have also produced black-on-black ware. Several contemporary artists have created works honoring the pottery of their ancestors.\"\n",
    "    }\n",
    "  ],\n",
    "  temperature=0.5,\n",
    "  max_tokens=256\n",
    ")\n",
    "\n",
    "print(response['choices'][0]['message']['content'])"
   ]
  },
  {
   "cell_type": "markdown",
   "id": "4bdaf2f5",
   "metadata": {},
   "source": [
    "### Airport Code Generator"
   ]
  },
  {
   "cell_type": "code",
   "execution_count": 3,
   "id": "dc6f3aac",
   "metadata": {},
   "outputs": [
    {
     "name": "stdout",
     "output_type": "stream",
     "text": [
      "The airport codes for Orlando and Boston are MCO and BOS, respectively.\n"
     ]
    }
   ],
   "source": [
    "response = openai.ChatCompletion.create(\n",
    "  model=\"gpt-3.5-turbo\",\n",
    "  messages=[\n",
    "    {\n",
    "      \"role\": \"system\",\n",
    "      \"content\": \"You will be provided with a text, and your task is to extract the airport codes from it.\"\n",
    "    },\n",
    "    {\n",
    "      \"role\": \"user\",\n",
    "      \"content\": \"I want to fly from Orlando to Boston\"\n",
    "    }\n",
    "  ],\n",
    "  temperature=0,\n",
    "  max_tokens=256\n",
    ")\n",
    "\n",
    "print(response['choices'][0]['message']['content'])"
   ]
  },
  {
   "cell_type": "markdown",
   "id": "70e572be",
   "metadata": {},
   "source": [
    "### Startup Idea Generator"
   ]
  },
  {
   "cell_type": "code",
   "execution_count": 5,
   "id": "90a4618f",
   "metadata": {},
   "outputs": [
    {
     "name": "stdout",
     "output_type": "stream",
     "text": [
      "1. Personalized course content: Use generative AI to analyze the learning preferences, skill gaps, and job roles of employees to create personalized online courses. The AI can generate tailored course materials, quizzes, and assignments based on individual needs, making the learning experience more effective and engaging.\n",
      "\n",
      "2. Real-time feedback and assessment: Integrate generative AI algorithms to provide instant feedback and assessment to employees during online courses. The AI can analyze their answers, identify areas of improvement, and suggest additional resources or practice exercises to enhance learning outcomes.\n",
      "\n",
      "3. Adaptive learning paths: Utilize generative AI to create adaptive learning paths for corporate online courses. The AI can analyze the progress and performance of employees, identify their strengths and weaknesses, and generate customized learning paths that target specific skill development areas.\n",
      "\n",
      "4. Virtual mentors and tutors: Employ generative AI to create virtual mentors or tutors for employees taking corporate online courses. The AI can simulate human-like interactions, provide guidance, answer questions, and offer personalized recommendations to support employees throughout their learning journey.\n",
      "\n",
      "5. Content generation and curation: Leverage generative AI to automatically generate course content for corporate online courses. The AI can analyze existing materials, extract relevant information, and generate summaries or additional resources to enrich the course content. It can also\n"
     ]
    }
   ],
   "source": [
    "response = openai.ChatCompletion.create(\n",
    "  model=\"gpt-3.5-turbo\",\n",
    "  messages=[\n",
    "    {\n",
    "      \"role\": \"user\",\n",
    "      \"content\": \"Brainstorm some ideas combining Generative AI and corporate online courses.\"\n",
    "    }\n",
    "  ],\n",
    "  temperature=0.6,\n",
    "  max_tokens=256\n",
    ")\n",
    "\n",
    "print(response['choices'][0]['message']['content'])"
   ]
  },
  {
   "cell_type": "code",
   "execution_count": null,
   "id": "9e4f868f",
   "metadata": {},
   "outputs": [],
   "source": []
  }
 ],
 "metadata": {
  "kernelspec": {
   "display_name": "Python 3 (ipykernel)",
   "language": "python",
   "name": "python3"
  },
  "language_info": {
   "codemirror_mode": {
    "name": "ipython",
    "version": 3
   },
   "file_extension": ".py",
   "mimetype": "text/x-python",
   "name": "python",
   "nbconvert_exporter": "python",
   "pygments_lexer": "ipython3",
   "version": "3.7.13"
  }
 },
 "nbformat": 4,
 "nbformat_minor": 5
}
